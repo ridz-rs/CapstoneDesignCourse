{
  "nbformat": 4,
  "nbformat_minor": 0,
  "metadata": {
    "colab": {
      "provenance": []
    },
    "kernelspec": {
      "name": "python3",
      "display_name": "Python 3"
    },
    "language_info": {
      "name": "python"
    }
  },
  "cells": [
    {
      "cell_type": "markdown",
      "source": [
        "# Converting .npy into .png"
      ],
      "metadata": {
        "id": "hjhY_a_d-DeL"
      }
    },
    {
      "cell_type": "markdown",
      "source": [
        "## Setup"
      ],
      "metadata": {
        "id": "jzwBX20J-KDI"
      }
    },
    {
      "cell_type": "code",
      "execution_count": null,
      "metadata": {
        "id": "Uf8GCNtVUH2G"
      },
      "outputs": [],
      "source": [
        "from PIL import Image\n",
        "import cv2\n",
        "from google.colab.patches import cv2_imshow\n",
        "import os, shutil\n",
        "import numpy as np"
      ]
    },
    {
      "cell_type": "code",
      "source": [
        "from google.colab import drive\n",
        "drive.mount('/content/drive', force_remount=True)"
      ],
      "metadata": {
        "id": "M3MgWn_cUMrn"
      },
      "execution_count": null,
      "outputs": []
    },
    {
      "cell_type": "markdown",
      "source": [
        "## Setup the paths"
      ],
      "metadata": {
        "id": "txTxKhgl-dtU"
      }
    },
    {
      "cell_type": "code",
      "source": [
        "# the path where you want to convert the .npy into .png\n",
        "train_path = '/content/drive/MyDrive/CSC490 Datasets/FINAL_COMBINED_DATASET_EDGES/Training dataset/Combined/images/'\n",
        "test_path = '/content/drive/MyDrive/CSC490 Datasets/FINAL_COMBINED_DATASET_EDGES/Test dataset/Combined/images/'\n",
        "train_images = list(os.listdir(train_path))\n",
        "test_images = list(os.listdir(test_path))"
      ],
      "metadata": {
        "id": "2J6QdEmUcAj_"
      },
      "execution_count": null,
      "outputs": []
    },
    {
      "cell_type": "markdown",
      "source": [
        "# Script for converting"
      ],
      "metadata": {
        "id": "NMtx_w71-gUV"
      }
    },
    {
      "cell_type": "code",
      "source": [
        "for train_image in train_images:\n",
        "  if '.npy' not in train_image:\n",
        "    continue\n",
        "  image_array = np.load(train_path + train_image)\n",
        "  im = Image.fromarray(np.uint8(image_array))\n",
        "  im.save(train_path + train_image[:-3] + 'png')\n",
        "\n",
        "for test_image in test_images:\n",
        "  if '.npy' not in test_image:\n",
        "    continue\n",
        "  image_array = np.load(test_path + test_image)\n",
        "  im = Image.fromarray(np.uint8(image_array))\n",
        "  im.save(test_path + test_image[:-3] + 'png')\n"
      ],
      "metadata": {
        "id": "WZkjZjZBcWMa"
      },
      "execution_count": null,
      "outputs": []
    }
  ]
}